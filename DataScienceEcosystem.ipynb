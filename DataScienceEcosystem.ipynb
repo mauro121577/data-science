{
 "cells": [
  {
   "attachments": {},
   "cell_type": "markdown",
   "id": "bdcc2900",
   "metadata": {},
   "source": [
    "## Exercise 1: Create a Jupyter Notebook"
   ]
  },
  {
   "attachments": {},
   "cell_type": "markdown",
   "id": "43666363",
   "metadata": {},
   "source": [
    "## Exercise 2: Create markdown cell with title of the notebook"
   ]
  },
  {
   "cell_type": "markdown",
   "id": "12463d1f",
   "metadata": {},
   "source": [
    "<img src=\"Pictures/2-title3.png\"/>"
   ]
  },
  {
   "attachments": {},
   "cell_type": "markdown",
   "id": "d63613dd",
   "metadata": {},
   "source": [
    "## Exercise 3 - Create a markdown cell for an introduction"
   ]
  },
  {
   "cell_type": "markdown",
   "id": "4c4c43ed",
   "metadata": {},
   "source": [
    "<img src=\"Pictures/3-intro.png\"/>"
   ]
  },
  {
   "attachments": {},
   "cell_type": "markdown",
   "id": "8a8fad10",
   "metadata": {},
   "source": [
    "## Exercise 4 - Create a markdown cell to list data science languages"
   ]
  },
  {
   "cell_type": "markdown",
   "id": "6046fef0",
   "metadata": {},
   "source": [
    "<img src=\"Pictures/4-dslanguages.png\"/>"
   ]
  },
  {
   "attachments": {},
   "cell_type": "markdown",
   "id": "f0c9e1a5",
   "metadata": {},
   "source": [
    "## Exercise 5 - Create a markdown cell to list data science libraries"
   ]
  },
  {
   "cell_type": "markdown",
   "id": "75f7d5f5",
   "metadata": {},
   "source": [
    "<img src=\"Pictures/5-dslibraries.png\"/>"
   ]
  },
  {
   "attachments": {},
   "cell_type": "markdown",
   "id": "e7627fe9",
   "metadata": {},
   "source": [
    "## Exercise 6 - Create a markdown cell with a table of Data Science tools"
   ]
  },
  {
   "cell_type": "markdown",
   "id": "6ab6752f",
   "metadata": {},
   "source": [
    "<img src=\"Pictures/6-dstools.png\"/>"
   ]
  },
  {
   "attachments": {},
   "cell_type": "markdown",
   "id": "2d5cd604",
   "metadata": {},
   "source": [
    "## Exercise 7 - Create a markdown cell introducing arithmetic expression examples"
   ]
  },
  {
   "cell_type": "markdown",
   "id": "8f0562c4",
   "metadata": {},
   "source": [
    "<img src=\"Pictures/7-introarithmetic.png\"/>"
   ]
  },
  {
   "cell_type": "markdown",
   "id": "db5f6562",
   "metadata": {},
   "source": [
    "## Exercise 8 - Create a code cell to multiply and add numbers"
   ]
  },
  {
   "cell_type": "markdown",
   "id": "5fd52e09",
   "metadata": {},
   "source": [
    "<img src=\"Pictures/8-multiplyandaddintegers.png\"/>"
   ]
  },
  {
   "attachments": {},
   "cell_type": "markdown",
   "id": "a59aab9c",
   "metadata": {},
   "source": [
    "## Exercise 9 - Create a code cell to convert minutes to hours"
   ]
  },
  {
   "cell_type": "markdown",
   "id": "79cf6dec",
   "metadata": {},
   "source": [
    "<img src=\"Pictures/9-hourstominutes.png\"/>"
   ]
  },
  {
   "attachments": {},
   "cell_type": "markdown",
   "id": "cd358825",
   "metadata": {},
   "source": [
    "## Exercise 10 - Insert a markdown cell to list Objectives"
   ]
  },
  {
   "cell_type": "markdown",
   "id": "81e84170",
   "metadata": {},
   "source": [
    "<img src=\"Pictures/10-objectives.png\"/>"
   ]
  },
  {
   "attachments": {},
   "cell_type": "markdown",
   "id": "ed7470d4",
   "metadata": {},
   "source": [
    "## Exercise 11 - Create a markdown cell to indicate the Author's name"
   ]
  },
  {
   "cell_type": "markdown",
   "id": "f7cce3c5",
   "metadata": {},
   "source": [
    "<img src=\"Pictures/11-authordetails.png\"/>"
   ]
  }
 ],
 "metadata": {
  "kernelspec": {
   "display_name": "Python 3 (ipykernel)",
   "language": "python",
   "name": "python3"
  },
  "language_info": {
   "codemirror_mode": {
    "name": "ipython",
    "version": 3
   },
   "file_extension": ".py",
   "mimetype": "text/x-python",
   "name": "python",
   "nbconvert_exporter": "python",
   "pygments_lexer": "ipython3",
   "version": "3.11.4"
  }
 },
 "nbformat": 4,
 "nbformat_minor": 5
}
